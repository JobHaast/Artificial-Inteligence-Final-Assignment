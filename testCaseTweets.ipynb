{
 "cells": [
  {
   "cell_type": "markdown",
   "metadata": {},
   "source": [
    "Tweet categories:\n",
    "1: Negatief\n",
    "2: Negatief/neutraal\n",
    "3: Neutraal\n",
    "4: Negatief\n",
    "5: Positief\n",
    "6: Positief\n",
    "7: Negatief/neutraal\n",
    "8: Negatief"
   ]
  },
  {
   "cell_type": "markdown",
   "metadata": {},
   "source": [
    "## Code for retrieving tweets\n",
    "\n",
    "```python\n",
    "import pandas as pd\n",
    "import tweepy\n",
    "import config\n",
    "import csv\n",
    "\n",
    "client = tweepy.Client(bearer_token=config.BEARER_TOKEN)\n",
    "csvFile = open('result.csv', 'a')\n",
    "\n",
    "#Use csv writer\n",
    "csvWriter = csv.writer(csvFile)\n",
    "for tweet in client.search_recent_tweets(query=\"Microsoft lang:en -is:retweet\", max_results=10).data:\n",
    "    # Write a row to the CSV file. I use encode UTF-8\n",
    "    csvWriter.writerow([tweet.text.encode('utf-8')])\n",
    "    \n",
    "csvFile.close()\n",
    "```"
   ]
  },
  {
   "cell_type": "code",
   "execution_count": 12,
   "metadata": {},
   "outputs": [
    {
     "name": "stdout",
     "output_type": "stream",
     "text": [
      "0    How is it possible for microsoft to do absolut...\n",
      "1           Microsoft really paid bethesda for nothing\n",
      "2    Educational Premiums Available!\\nDm to avail.\\...\n",
      "3    @splitend89 Microsoft better break out the che...\n",
      "4    Sony can learn a lot from Microsoft and how th...\n",
      "5    It sucks to see the delays but great to see th...\n",
      "6    @theRealJayDub2 @PostUp_bbb Why work when you ...\n",
      "7                   microsoft? more like microsoftcock\n",
      "Name: text, dtype: object\n"
     ]
    },
    {
     "data": {
      "text/plain": [
       "<AxesSubplot:>"
      ]
     },
     "execution_count": 12,
     "metadata": {},
     "output_type": "execute_result"
    },
    {
     "data": {
      "image/png": "[encoded data removed]",
      "text/plain": [
       "<Figure size 1080x360 with 1 Axes>"
      ]
     },
     "metadata": {
      "needs_background": "light"
     },
     "output_type": "display_data"
    }
   ],
   "source": [
    "import pandas as pd\n",
    "import config\n",
    "from vaderSentiment.vaderSentiment import SentimentIntensityAnalyzer\n",
    "\n",
    "df = pd.read_csv('result.csv', header=None, dtype = str,names=[\"text\", \"category\"])\n",
    "\n",
    "print(df['text'])\n",
    "analyzer = SentimentIntensityAnalyzer()\n",
    "tweetsWithSent = []\n",
    "\n",
    "for t in df.text:\n",
    "    ps = analyzer.polarity_scores(t)\n",
    "    tweetsWithSent.append({'text': t, 'compound': ps['compound']})\n",
    "\n",
    "tweetdf = pd.DataFrame(tweetsWithSent)\n",
    "tweetdf.plot.bar(figsize=(15, 5), width=1)"
   ]
  },
  {
   "cell_type": "code",
   "execution_count": 5,
   "metadata": {},
   "outputs": [
    {
     "data": {
      "text/plain": [
       "<AxesSubplot:>"
      ]
     },
     "execution_count": 5,
     "metadata": {},
     "output_type": "execute_result"
    },
    {
     "data": {
      "image/png": "[encoded data removed]",
      "text/plain": [
       "<Figure size 1080x360 with 1 Axes>"
      ]
     },
     "metadata": {
      "needs_background": "light"
     },
     "output_type": "display_data"
    }
   ],
   "source": [
    "import config\n",
    "from vaderSentiment.vaderSentiment import SentimentIntensityAnalyzer\n",
    "from ast import literal_eval\n",
    "df = pd.read_csv('result.csv', header=None, dtype = str,names=[\"text\"])\n",
    "\n",
    "analyzer = SentimentIntensityAnalyzer()\n",
    "tweetsWithSent = []\n",
    "for t in df.text:\n",
    "    words = t.split()\n",
    "    sentiment = 0\n",
    "    for word in words:\n",
    "        ps = analyzer.polarity_scores(word)\n",
    "        sentiment += ps['compound']\n",
    "       \n",
    "    tweetsWithSent.append({'text': t, 'compound': sentiment/len(words)})\n",
    "\n",
    "# Plot the result of analysis\n",
    "# - A high compound can be regarderd as a highly positive tweet (1 being the highest posibile score)\n",
    "# - A low compound can be regarded as a highly negative tweet (-1 being the lowest possibile score)\n",
    "# - A compound score of 0 can be regarded as a highly neatral tweet\n",
    "tweetdf = pd.DataFrame(tweetsWithSent)\n",
    "tweetdf.plot.bar(figsize=(15, 5), width=1)"
   ]
  },
  {
   "cell_type": "code",
   "execution_count": 6,
   "metadata": {},
   "outputs": [
    {
     "data": {
      "text/plain": [
       "<AxesSubplot:>"
      ]
     },
     "execution_count": 6,
     "metadata": {},
     "output_type": "execute_result"
    },
    {
     "data": {
      "image/png": "[encoded data removed]",
      "text/plain": [
       "<Figure size 1080x360 with 1 Axes>"
      ]
     },
     "metadata": {
      "needs_background": "light"
     },
     "output_type": "display_data"
    }
   ],
   "source": [
    "import config\n",
    "from vaderSentiment.vaderSentiment import SentimentIntensityAnalyzer\n",
    "from ast import literal_eval\n",
    "df = pd.read_csv('result.csv', header=None, dtype = str,names=[\"text\"])\n",
    "\n",
    "analyzer = SentimentIntensityAnalyzer()\n",
    "\n",
    "tweetsWithSent = []\n",
    "for t in df.text:\n",
    "    words = t.split()\n",
    "    wordsWithSentiment = []\n",
    "    sentiment = 0\n",
    "    for word in words:\n",
    "        ps = analyzer.polarity_scores(word)\n",
    "        if ps['compound'] != 0:\n",
    "            wordsWithSentiment.append(word)\n",
    "            sentiment += ps['compound']\n",
    "    \n",
    "    tweetsWithSent.append({'text': t, 'compound': sentiment/(len(wordsWithSentiment) if len(wordsWithSentiment) != 0 else 1)})\n",
    "\n",
    "# Plot the result of analysis\n",
    "# - A high compound can be regarderd as a highly positive tweet (1 being the highest posibile score)\n",
    "# - A low compound can be regarded as a highly negative tweet (-1 being the lowest possibile score)\n",
    "# - A compound score of 0 can be regarded as a highly neatral tweet\n",
    "tweetdf = pd.DataFrame(tweetsWithSent)\n",
    "tweetdf.plot.bar(figsize=(15, 5), width=1)"
   ]
  }
 ],
 "metadata": {
  "interpreter": {
   "hash": "685706990de9f9d4f73e154e3bb7739495187cea6f5c1d56d8f967ebc470010f"
  },
  "kernelspec": {
   "display_name": "Python 3.8.5 ('base')",
   "language": "python",
   "name": "python3"
  },
  "language_info": {
   "codemirror_mode": {
    "name": "ipython",
    "version": 3
   },
   "file_extension": ".py",
   "mimetype": "text/x-python",
   "name": "python",
   "nbconvert_exporter": "python",
   "pygments_lexer": "ipython3",
   "version": "3.8.5"
  },
  "orig_nbformat": 4
 },
 "nbformat": 4,
 "nbformat_minor": 2
}
