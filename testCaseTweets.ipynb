{
 "cells": [
  {
   "cell_type": "code",
   "execution_count": 2,
   "metadata": {},
   "outputs": [],
   "source": [
    "import pandas as pd\n",
    "import tweepy\n",
    "import config\n",
    "import csv\n",
    "\n",
    "\n",
    "client = tweepy.Client(bearer_token=config.BEARER_TOKEN)\n",
    "# Open/create a file to append data to\n",
    "csvFile = open('result.csv', 'a')\n",
    "\n",
    "#Use csv writer\n",
    "csvWriter = csv.writer(csvFile)\n",
    "for tweet in client.search_recent_tweets(query=\"Microsoft lang:en -is:retweet\", max_results=10).data:\n",
    "    # Write a row to the CSV file. I use encode UTF-8\n",
    "    csvWriter.writerow([tweet.text.encode('utf-8')])\n",
    "    \n",
    "csvFile.close()"
   ]
  },
  {
   "cell_type": "code",
   "execution_count": 3,
   "metadata": {},
   "outputs": [
    {
     "data": {
      "text/plain": [
       "<AxesSubplot:>"
      ]
     },
     "execution_count": 3,
     "metadata": {},
     "output_type": "execute_result"
    },
    {
     "data": {
      "image/png": "[encoded data removed]",
      "text/plain": [
       "<Figure size 1080x360 with 1 Axes>"
      ]
     },
     "metadata": {
      "needs_background": "light"
     },
     "output_type": "display_data"
    }
   ],
   "source": [
    "import config\n",
    "from vaderSentiment.vaderSentiment import SentimentIntensityAnalyzer\n",
    "from ast import literal_eval\n",
    "df = pd.read_csv('result.csv', header=None, dtype = str,names=[\"text\"])\n",
    "\n",
    "analyzer = SentimentIntensityAnalyzer()\n",
    "tweetsWithSent = []\n",
    "\n",
    "for t in df.text:\n",
    "    ps = analyzer.polarity_scores(t)\n",
    "    tweetsWithSent.append({'text': t, 'compound': ps['compound']})\n",
    "\n",
    "tweetdf = pd.DataFrame(tweetsWithSent)\n",
    "tweetdf.plot.bar(figsize=(15, 5), width=1)"
   ]
  },
  {
   "cell_type": "code",
   "execution_count": null,
   "metadata": {},
   "outputs": [],
   "source": []
  }
 ],
 "metadata": {
  "interpreter": {
   "hash": "ad2bdc8ecc057115af97d19610ffacc2b4e99fae6737bb82f5d7fb13d2f2c186"
  },
  "kernelspec": {
   "display_name": "Python 3.8.5 ('base')",
   "language": "python",
   "name": "python3"
  },
  "language_info": {
   "codemirror_mode": {
    "name": "ipython",
    "version": 3
   },
   "file_extension": ".py",
   "mimetype": "text/x-python",
   "name": "python",
   "nbconvert_exporter": "python",
   "pygments_lexer": "ipython3",
   "version": "3.8.5"
  },
  "orig_nbformat": 4
 },
 "nbformat": 4,
 "nbformat_minor": 2
}
