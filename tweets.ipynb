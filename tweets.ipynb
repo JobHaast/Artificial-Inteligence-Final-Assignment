{
 "cells": [
  {
   "cell_type": "code",
   "execution_count": 4,
   "metadata": {},
   "outputs": [
    {
     "data": {
      "text/plain": [
       "<AxesSubplot:>"
      ]
     },
     "execution_count": 4,
     "metadata": {},
     "output_type": "execute_result"
    },
    {
     "data": {
      "image/png": "[encoded data removed]",
      "text/plain": [
       "<Figure size 1080x360 with 1 Axes>"
      ]
     },
     "metadata": {
      "needs_background": "light"
     },
     "output_type": "display_data"
    }
   ],
   "source": [
    "import pandas as pd\n",
    "import tweepy\n",
    "import config\n",
    "from vaderSentiment.vaderSentiment import SentimentIntensityAnalyzer\n",
    "\n",
    "# Setup analyzer and twitter api objects\n",
    "analyzer = SentimentIntensityAnalyzer()\n",
    "client = tweepy.Client(bearer_token=config.BEARER_TOKEN)\n",
    "\n",
    "# TODO:\n",
    "# Add filter for english?? (Needed if vaderSentiment does not support languages other than english)\n",
    "# Add filter for tweets in a certain time frame (start_time, end_time)\n",
    "\n",
    "# Retrieve tweets that have a certain phrase in them\n",
    "tweets = client.search_recent_tweets(query=\"Coca-Cola\")\n",
    "\n",
    "# Analyse the tweets with vaderSentiment and save the result of each tweet\n",
    "tweetsWithSent = []\n",
    "for t in tweets.data:\n",
    "    text = t.text\n",
    "    ps = analyzer.polarity_scores(text)\n",
    "    tweetsWithSent.append({'text': text, 'compound': ps['compound']})\n",
    "\n",
    "# Plot the result of analysis\n",
    "# - A high compound can be regarderd as a highly positive tweet (1 being the highest posibile score)\n",
    "# - A low compound can be regarded as a highly negative tweet (-1 being the lowest possibile score)\n",
    "# - A compound score of 0 can be regarded as a highly neatral tweet\n",
    "tweetdf = pd.DataFrame(tweetsWithSent)\n",
    "tweetdf.plot.bar(figsize=(15, 5), width=1)"
   ]
  }
 ],
 "metadata": {
  "interpreter": {
   "hash": "65bd3ec078aec74a9e24b3338a17f097f07d703003a8b6ea907281132412c36b"
  },
  "kernelspec": {
   "display_name": "Python 3.8.5 ('base')",
   "language": "python",
   "name": "python3"
  },
  "language_info": {
   "codemirror_mode": {
    "name": "ipython",
    "version": 3
   },
   "file_extension": ".py",
   "mimetype": "text/x-python",
   "name": "python",
   "nbconvert_exporter": "python",
   "pygments_lexer": "ipython3",
   "version": "3.8.5"
  },
  "orig_nbformat": 4
 },
 "nbformat": 4,
 "nbformat_minor": 2
}
