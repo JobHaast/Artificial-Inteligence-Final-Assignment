{
 "cells": [
  {
   "cell_type": "code",
   "execution_count": 3,
   "metadata": {},
   "outputs": [],
   "source": [
    "import pandas as pd\n",
    "import tweepy\n",
    "import config\n",
    "import csv\n",
    "\n",
    "\n",
    "client = tweepy.Client(bearer_token=config.BEARER_TOKEN)\n",
    "# Open/create a file to append data to\n",
    "csvFile = open('result.csv', 'a')\n",
    "\n",
    "#Use csv writer\n",
    "csvWriter = csv.writer(csvFile)\n",
    "\n",
    "for tweet in client.search_recent_tweets(query=\"Microsoft lang:en -is:retweet\").data:\n",
    "    # Write a row to the CSV file. I use encode UTF-8\n",
    "    csvWriter.writerow([tweet.text.encode('utf-8')])\n",
    "\n",
    "csvFile.close()"
   ]
  },
  {
   "cell_type": "code",
   "execution_count": 1,
   "metadata": {},
   "outputs": [
    {
     "name": "stdout",
     "output_type": "stream",
     "text": [
      "Highest sentiment tweet: If you applied for the next @UN 🇺🇳 competitive exam for #Arabic #Interpreters, please attend our next preparatory lecture (in English) on legal #interpretation.\n",
      "\n",
      "Join us 🗓️ on Thurs., 12 May 2022 at 1 p.m. (NY time) by clicking this link ➡️ https://t.co/d464d4MbXU https://t.co/L9OV5STVQa , Compound: 0.6908\n",
      "\n",
      "Lowest sentiment tweet: Some Azure design considerations for Zone based deployments with @Citrix Cloud CVADS/DaaS - probably missed some stuff but a start at least https://t.co/R1JupS6Kwd , Compound: -0.1531\n"
     ]
    },
    {
     "data": {
      "image/png": "[encoded data removed]",
      "text/plain": [
       "<Figure size 1080x360 with 1 Axes>"
      ]
     },
     "metadata": {
      "needs_background": "light"
     },
     "output_type": "display_data"
    }
   ],
   "source": [
    "import pandas as pd\n",
    "import tweepy\n",
    "import config\n",
    "from vaderSentiment.vaderSentiment import SentimentIntensityAnalyzer\n",
    "\n",
    "# Setup analyzer and twitter api objects\n",
    "analyzer = SentimentIntensityAnalyzer()\n",
    "client = tweepy.Client(bearer_token=config.BEARER_TOKEN)\n",
    "\n",
    "# Retrieve tweets that are english and have a certain phrase in them\n",
    "tweets = client.search_recent_tweets(query=\"Microsoft lang:en -is:retweet\")\n",
    "\n",
    "# Analyse the tweets with vaderSentiment and save the result of each tweet\n",
    "tweetsWithSent = []\n",
    "for t in tweets.data:\n",
    "    text = t.text\n",
    "    ps = analyzer.polarity_scores(text)\n",
    "    tweetsWithSent.append({'text': text, 'compound': ps['compound']})\n",
    "\n",
    "# Plot the result of analysis\n",
    "# - A high compound can be regarderd as a highly positive tweet (1 being the highest posibile score)\n",
    "# - A low compound can be regarded as a highly negative tweet (-1 being the lowest possibile score)\n",
    "# - A compound score of 0 can be regarded as a highly neatral tweet\n",
    "tweetdf = pd.DataFrame(tweetsWithSent)\n",
    "tweetdf.plot.bar(figsize=(15, 5), width=1)\n",
    "\n",
    "highestSentimentTweet = tweetsWithSent[0]\n",
    "for t in tweetsWithSent:\n",
    "    if highestSentimentTweet['compound'] <= t['compound']:\n",
    "        highestSentimentTweet = t\n",
    "\n",
    "lowestSentimentTweet = tweetsWithSent[0]\n",
    "for t in tweetsWithSent:\n",
    "    if lowestSentimentTweet['compound'] >= t['compound']:\n",
    "        lowestSentimentTweet = t\n",
    "\n",
    "print(\"Highest sentiment tweet: % s , Compound: % s\" % (highestSentimentTweet['text'], highestSentimentTweet['compound']))\n",
    "print()\n",
    "print(\"Lowest sentiment tweet: % s , Compound: % s\" % (lowestSentimentTweet['text'], lowestSentimentTweet['compound']))\n"
   ]
  },
  {
   "cell_type": "code",
   "execution_count": 2,
   "metadata": {},
   "outputs": [
    {
     "name": "stdout",
     "output_type": "stream",
     "text": [
      "Highest sentiment tweet: @msftsecurity The words Microsoft and Security should never be next to each other in same sentence. , Compound: 0.026075\n",
      "\n",
      "Lowest sentiment tweet: #Finland to apply to @NATO 'without delay,' as #Sweden mulls stance #Microsoft #News https://t.co/ug9jPwTuOj , Compound: -0.022728571428571428\n"
     ]
    },
    {
     "data": {
      "image/png": "[encoded data removed]",
      "text/plain": [
       "<Figure size 1080x360 with 1 Axes>"
      ]
     },
     "metadata": {
      "needs_background": "light"
     },
     "output_type": "display_data"
    }
   ],
   "source": [
    "import pandas as pd\n",
    "import tweepy\n",
    "import config\n",
    "from vaderSentiment.vaderSentiment import SentimentIntensityAnalyzer\n",
    "\n",
    "# Setup analyzer and twitter api objects\n",
    "analyzer = SentimentIntensityAnalyzer()\n",
    "client = tweepy.Client(bearer_token=config.BEARER_TOKEN)\n",
    "\n",
    "# Retrieve tweets that are english and have a certain phrase in them\n",
    "tweets = client.search_recent_tweets(query=\"Microsoft lang:en -is:retweet\")\n",
    "\n",
    "# Analyse the tweets with vaderSentiment and save the result of each tweet\n",
    "tweetsWithSent = []\n",
    "for t in tweets.data:\n",
    "    words = t.text.split()\n",
    "    sentiment = 0\n",
    "    for word in words:\n",
    "        ps = analyzer.polarity_scores(word)\n",
    "        sentiment += ps['compound']\n",
    "       \n",
    "    tweetsWithSent.append({'text': t.text, 'compound': sentiment/len(words)})\n",
    "\n",
    "# Plot the result of analysis\n",
    "# - A high compound can be regarderd as a highly positive tweet (1 being the highest posibile score)\n",
    "# - A low compound can be regarded as a highly negative tweet (-1 being the lowest possibile score)\n",
    "# - A compound score of 0 can be regarded as a highly neatral tweet\n",
    "tweetdf = pd.DataFrame(tweetsWithSent)\n",
    "tweetdf.plot.bar(figsize=(15, 5), width=1)\n",
    "\n",
    "highestSentimentTweet = tweetsWithSent[0]\n",
    "for t in tweetsWithSent:\n",
    "    if highestSentimentTweet['compound'] <= t['compound']:\n",
    "        highestSentimentTweet = t\n",
    "\n",
    "lowestSentimentTweet = tweetsWithSent[0]\n",
    "for t in tweetsWithSent:\n",
    "    if lowestSentimentTweet['compound'] >= t['compound']:\n",
    "        lowestSentimentTweet = t\n",
    "\n",
    "print(\"Highest sentiment tweet: % s , Compound: % s\" % (highestSentimentTweet['text'], highestSentimentTweet['compound']))\n",
    "print()\n",
    "print(\"Lowest sentiment tweet: % s , Compound: % s\" % (lowestSentimentTweet['text'], lowestSentimentTweet['compound']))"
   ]
  },
  {
   "cell_type": "code",
   "execution_count": 51,
   "metadata": {},
   "outputs": [
    {
     "name": "stdout",
     "output_type": "stream",
     "text": [
      "Highest sentiment tweet: @Microsoft uses markdown for their technical docs https://t.co/uwRGAPAp8y 👏👏👏 You should do it too :) \n",
      "cc: @ruphy @librementesw , Compound: 0.4588\n",
      "\n",
      "Lowest sentiment tweet: @Microsoft Them: you have time for a chat?\n",
      "Me: no\n",
      "Them: well, anyways... , Compound: -0.011399999999999993\n"
     ]
    },
    {
     "data": {
      "image/png": "[encoded data removed]",
      "text/plain": [
       "<Figure size 1080x360 with 1 Axes>"
      ]
     },
     "metadata": {
      "needs_background": "light"
     },
     "output_type": "display_data"
    }
   ],
   "source": [
    "import pandas as pd\n",
    "import tweepy\n",
    "import config\n",
    "from vaderSentiment.vaderSentiment import SentimentIntensityAnalyzer\n",
    "\n",
    "# Setup analyzer and twitter api objects\n",
    "analyzer = SentimentIntensityAnalyzer()\n",
    "client = tweepy.Client(bearer_token=config.BEARER_TOKEN)\n",
    "\n",
    "# Retrieve tweets that are english and have a certain phrase in them\n",
    "tweets = client.search_recent_tweets(query=\"Microsoft lang:en -is:retweet\")\n",
    "\n",
    "# Analyse the tweets with vaderSentiment and save the result of each tweet\n",
    "tweetsWithSent = []\n",
    "for t in tweets.data:\n",
    "    words = t.text.split()\n",
    "    wordsWithSentiment = []\n",
    "    sentiment = 0\n",
    "    for word in words:\n",
    "        ps = analyzer.polarity_scores(word)\n",
    "        if ps['compound'] != 0:\n",
    "            wordsWithSentiment.append(word)\n",
    "            sentiment += ps['compound']\n",
    "    \n",
    "    tweetsWithSent.append({'text': t.text, 'compound': sentiment/(len(wordsWithSentiment) if len(wordsWithSentiment) != 0 else 1)})\n",
    "\n",
    "# Plot the result of analysis\n",
    "# - A high compound can be regarderd as a highly positive tweet (1 being the highest posibile score)\n",
    "# - A low compound can be regarded as a highly negative tweet (-1 being the lowest possibile score)\n",
    "# - A compound score of 0 can be regarded as a highly neatral tweet\n",
    "tweetdf = pd.DataFrame(tweetsWithSent)\n",
    "tweetdf.plot.bar(figsize=(15, 5), width=1)\n",
    "\n",
    "highestSentimentTweet = tweetsWithSent[0]\n",
    "for t in tweetsWithSent:\n",
    "    if highestSentimentTweet['compound'] <= t['compound']:\n",
    "        highestSentimentTweet = t\n",
    "\n",
    "lowestSentimentTweet = tweetsWithSent[0]\n",
    "for t in tweetsWithSent:\n",
    "    if lowestSentimentTweet['compound'] >= t['compound']:\n",
    "        lowestSentimentTweet = t\n",
    "\n",
    "print(\"Highest sentiment tweet: % s , Compound: % s\" % (highestSentimentTweet['text'], highestSentimentTweet['compound']))\n",
    "print()\n",
    "print(\"Lowest sentiment tweet: % s , Compound: % s\" % (lowestSentimentTweet['text'], lowestSentimentTweet['compound']))"
   ]
  }
 ],
 "metadata": {
  "interpreter": {
   "hash": "685706990de9f9d4f73e154e3bb7739495187cea6f5c1d56d8f967ebc470010f"
  },
  "kernelspec": {
   "display_name": "Python 3.8.5 ('base')",
   "language": "python",
   "name": "python3"
  },
  "language_info": {
   "codemirror_mode": {
    "name": "ipython",
    "version": 3
   },
   "file_extension": ".py",
   "mimetype": "text/x-python",
   "name": "python",
   "nbconvert_exporter": "python",
   "pygments_lexer": "ipython3",
   "version": "3.8.5"
  },
  "orig_nbformat": 4
 },
 "nbformat": 4,
 "nbformat_minor": 2
}
