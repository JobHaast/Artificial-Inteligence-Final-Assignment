{
 "cells": [
  {
   "cell_type": "code",
   "execution_count": 29,
   "metadata": {},
   "outputs": [
    {
     "name": "stdout",
     "output_type": "stream",
     "text": [
      "Highest sentiment tweet: #STOSAR  LIVE: Celebrating International day of Plant Health 12 May in Limpopo https://t.co/IkWskTEy05\n",
      "@FAO is the lead implementing agency for 2 components of the Support Towards the Operationalization of the SADC Regional Agricultural Policy Project #STOSAR supported by EU https://t.co/jDRufWhr3S , Compound: 0.8271\n",
      "\n",
      "Lowest sentiment tweet: Customize Surface Hub with Progressive Web Apps https://t.co/rgJU22Mr28 #techcommunity , Compound: 0.0\n"
     ]
    },
    {
     "data": {
      "image/png": "[encoded data removed]",
      "text/plain": [
       "<Figure size 1080x360 with 1 Axes>"
      ]
     },
     "metadata": {
      "needs_background": "light"
     },
     "output_type": "display_data"
    }
   ],
   "source": [
    "import pandas as pd\n",
    "import tweepy\n",
    "import config\n",
    "from vaderSentiment.vaderSentiment import SentimentIntensityAnalyzer\n",
    "\n",
    "# Setup analyzer and twitter api objects\n",
    "analyzer = SentimentIntensityAnalyzer()\n",
    "client = tweepy.Client(bearer_token=config.BEARER_TOKEN)\n",
    "\n",
    "# Retrieve tweets that are english and have a certain phrase in them\n",
    "tweets = client.search_recent_tweets(query=\"Microsoft lang:en -is:retweet\")\n",
    "\n",
    "# Analyse the tweets with vaderSentiment and save the result of each tweet\n",
    "tweetsWithSent = []\n",
    "for t in tweets.data:\n",
    "    text = t.text\n",
    "    ps = analyzer.polarity_scores(text)\n",
    "    tweetsWithSent.append({'text': text, 'compound': ps['compound']})\n",
    "\n",
    "# Plot the result of analysis\n",
    "# - A high compound can be regarderd as a highly positive tweet (1 being the highest posibile score)\n",
    "# - A low compound can be regarded as a highly negative tweet (-1 being the lowest possibile score)\n",
    "# - A compound score of 0 can be regarded as a highly neatral tweet\n",
    "tweetdf = pd.DataFrame(tweetsWithSent)\n",
    "tweetdf.plot.bar(figsize=(15, 5), width=1)\n",
    "\n",
    "highestSentimentTweet = tweetsWithSent[0]\n",
    "for t in tweetsWithSent:\n",
    "    if highestSentimentTweet['compound'] <= t['compound']:\n",
    "        highestSentimentTweet = t\n",
    "\n",
    "lowestSentimentTweet = tweetsWithSent[0]\n",
    "for t in tweetsWithSent:\n",
    "    if lowestSentimentTweet['compound'] >= t['compound']:\n",
    "        lowestSentimentTweet = t\n",
    "\n",
    "print(\"Highest sentiment tweet: % s , Compound: % s\" % (highestSentimentTweet['text'], highestSentimentTweet['compound']))\n",
    "print()\n",
    "print(\"Lowest sentiment tweet: % s , Compound: % s\" % (lowestSentimentTweet['text'], lowestSentimentTweet['compound']))\n"
   ]
  },
  {
   "cell_type": "code",
   "execution_count": null,
   "metadata": {},
   "outputs": [],
   "source": [
    "import pandas as pd\n",
    "import tweepy\n",
    "import config\n",
    "from vaderSentiment.vaderSentiment import SentimentIntensityAnalyzer\n",
    "\n",
    "# Setup analyzer and twitter api objects\n",
    "analyzer = SentimentIntensityAnalyzer()\n",
    "client = tweepy.Client(bearer_token=config.BEARER_TOKEN)\n",
    "\n",
    "# Retrieve tweets that are english and have a certain phrase in them\n",
    "tweets = client.search_recent_tweets(query=\"Microsoft lang:en -is:retweet\")\n",
    "\n",
    "# Analyse the tweets with vaderSentiment and save the result of each tweet\n",
    "tweetsWithSent = []\n",
    "for t in tweets.data:\n",
    "    text = t.text\n",
    "    ps = analyzer.polarity_scores(text)\n",
    "    tweetsWithSent.append({'text': text, 'compound': ps['compound']})\n",
    "\n",
    "# Plot the result of analysis\n",
    "# - A high compound can be regarderd as a highly positive tweet (1 being the highest posibile score)\n",
    "# - A low compound can be regarded as a highly negative tweet (-1 being the lowest possibile score)\n",
    "# - A compound score of 0 can be regarded as a highly neatral tweet\n",
    "tweetdf = pd.DataFrame(tweetsWithSent)\n",
    "tweetdf.plot.bar(figsize=(15, 5), width=1)\n",
    "\n",
    "highestSentimentTweet = tweetsWithSent[0]\n",
    "for t in tweetsWithSent:\n",
    "    if highestSentimentTweet['compound'] <= t['compound']:\n",
    "        highestSentimentTweet = t\n",
    "\n",
    "lowestSentimentTweet = tweetsWithSent[0]\n",
    "for t in tweetsWithSent:\n",
    "    if lowestSentimentTweet['compound'] >= t['compound']:\n",
    "        lowestSentimentTweet = t\n",
    "\n",
    "print(\"Highest sentiment tweet: % s , Compound: % s\" % (highestSentimentTweet['text'], highestSentimentTweet['compound']))\n",
    "print()\n",
    "print(\"Lowest sentiment tweet: % s , Compound: % s\" % (lowestSentimentTweet['text'], lowestSentimentTweet['compound']))\n"
   ]
  }
 ],
 "metadata": {
  "interpreter": {
   "hash": "685706990de9f9d4f73e154e3bb7739495187cea6f5c1d56d8f967ebc470010f"
  },
  "kernelspec": {
   "display_name": "Python 3.8.5 ('base')",
   "language": "python",
   "name": "python3"
  },
  "language_info": {
   "codemirror_mode": {
    "name": "ipython",
    "version": 3
   },
   "file_extension": ".py",
   "mimetype": "text/x-python",
   "name": "python",
   "nbconvert_exporter": "python",
   "pygments_lexer": "ipython3",
   "version": "3.8.5"
  },
  "orig_nbformat": 4
 },
 "nbformat": 4,
 "nbformat_minor": 2
}
